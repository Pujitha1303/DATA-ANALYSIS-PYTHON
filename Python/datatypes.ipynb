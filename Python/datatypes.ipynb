{
 "cells": [
  {
   "cell_type": "code",
   "execution_count": 1,
   "metadata": {},
   "outputs": [
    {
     "name": "stdout",
     "output_type": "stream",
     "text": [
      "HelloPython\n"
     ]
    }
   ],
   "source": [
    "x='Hello'\n",
    "h='Python'\n",
    "print(x+h)"
   ]
  },
  {
   "cell_type": "code",
   "execution_count": 6,
   "metadata": {},
   "outputs": [
    {
     "data": {
      "text/plain": [
       "'MY NAME IS PUJITHA'"
      ]
     },
     "execution_count": 6,
     "metadata": {},
     "output_type": "execute_result"
    }
   ],
   "source": [
    "x='my name is pujitha'\n",
    "y='what is your name'\n",
    "x.upper()"
   ]
  },
  {
   "cell_type": "code",
   "execution_count": 28,
   "metadata": {},
   "outputs": [
    {
     "name": "stdout",
     "output_type": "stream",
     "text": [
      "['watermelon', 'sapota', 'cherry', 'apple', '40']\n"
     ]
    }
   ],
   "source": [
    "# lists \n",
    "fruits =['apple', 'banana','cherry','40','sapota','watermelon'] \n",
    "type(fruits)\n",
    "# print(fruits[3])\n",
    "# fruits.index('cherry')\n",
    "# fruits[2:4+1]\n",
    "# fruits.append('strawberry')\n",
    "# print(fruits)\n",
    "fruits.remove(fruits[1])\n",
    "\n",
    "fruits.sort(reverse=True)\n",
    "print(fruits)\n",
    "# coordinates=(10,20)\n",
    "# unique_numbers={1,2,3,4}\n",
    "# student={'name':'Pujitha','age':24}\n"
   ]
  },
  {
   "cell_type": "code",
   "execution_count": 34,
   "metadata": {},
   "outputs": [
    {
     "data": {
      "text/plain": [
       "('Titanic', 'Inception', 'Spider man')"
      ]
     },
     "execution_count": 34,
     "metadata": {},
     "output_type": "execute_result"
    }
   ],
   "source": [
    "# tuples- immutable,can store different data types \n",
    "movies=('Joker','Lucy','Titanic','Inception','Spider man')\n",
    "movies[-3:]"
   ]
  },
  {
   "cell_type": "code",
   "execution_count": 38,
   "metadata": {},
   "outputs": [
    {
     "data": {
      "text/plain": [
       "{4}"
      ]
     },
     "execution_count": 38,
     "metadata": {},
     "output_type": "execute_result"
    }
   ],
   "source": [
    "#  sets - unordered collection of unique items \n",
    "myset={1,2,3,4}\n",
    "myset2={5,6,7,8}\n",
    "union_set=(myset2- myset)\n",
    "union_set"
   ]
  },
  {
   "cell_type": "code",
   "execution_count": 41,
   "metadata": {},
   "outputs": [
    {
     "name": "stdout",
     "output_type": "stream",
     "text": [
      "Here are your items : {' avacado', 'milk', ' cheese', ' potato'} \n"
     ]
    }
   ],
   "source": [
    "# Project : Grocerry List Manager\n",
    "# create a simple grocery list manager whwre users can add items, view the list , and remove duplicates (using the set functionality)\n",
    "\n",
    "items=input(\"please enter item names separating by commas :\")\n",
    "items_list=items.strip().split(',')\n",
    "items_set=set(items_list)\n",
    "print(f\"Here are your items : {items_set} \")"
   ]
  },
  {
   "cell_type": "code",
   "execution_count": 64,
   "metadata": {},
   "outputs": [
    {
     "data": {
      "text/plain": [
       "'pickles'"
      ]
     },
     "execution_count": 64,
     "metadata": {},
     "output_type": "execute_result"
    }
   ],
   "source": [
    "# Dictionary - Unordered , mutable, key must be unique, values can be any type\n",
    "\n",
    "my_dict={ \"name\": \"Pujitha\" , \n",
    "         \"age\":24,\n",
    "         \"job\": \"searching\",\n",
    "         \"city\":\"texas\",\n",
    "         \"likedfood\":{\"hot\":\"pickles\", \"sweet\":\"chocolates\"},\n",
    "         \"number\":23}\n",
    "# my_dict.get(\"likedfood\")\n",
    "my_dict[\"likedfood\"]['hot']\n",
    "# my_dict.keys()\n",
    "# my_dict.values()\n",
    "# my_dict.items()\n",
    "# my_dict.pop('number')\n",
    "# my_dict\n"
   ]
  },
  {
   "cell_type": "code",
   "execution_count": 67,
   "metadata": {},
   "outputs": [
    {
     "data": {
      "text/plain": [
       "'Presentation skills'"
      ]
     },
     "execution_count": 67,
     "metadata": {},
     "output_type": "execute_result"
    }
   ],
   "source": [
    "# nested dictionary\n",
    "\n",
    "data_analyst={\n",
    "    \"skills\":{'Excel','AWS','SQL','Python'},\n",
    "     \"softskills\":['Communication skills','Presentation skills','Problem solving']\n",
    "}\n",
    "data_analyst['softskills'][1]\n"
   ]
  },
  {
   "cell_type": "code",
   "execution_count": 77,
   "metadata": {},
   "outputs": [
    {
     "data": {
      "text/plain": [
       "{'name': 'John doe', 'age': 20, 'GPA': 3.9, 'Graduation year': '2025'}"
      ]
     },
     "execution_count": 77,
     "metadata": {},
     "output_type": "execute_result"
    }
   ],
   "source": [
    "student_info={\"name\": \"John doe\", \"age\":20, \n",
    "              \"major\": \"Computer science\" , \n",
    "              \"GPA\": 3.8}\n",
    "student_info[\"name\"]\n",
    "student_info[\"age\"]\n",
    "student_info[\"Graduation year\"]=\"2025\"\n",
    "student_info[\"GPA\"]=3.9\n",
    "student_info.pop(\"major\")\n",
    "student_info\n"
   ]
  },
  {
   "cell_type": "code",
   "execution_count": 78,
   "metadata": {},
   "outputs": [
    {
     "data": {
      "text/plain": [
       "[85, 90, 88]"
      ]
     },
     "execution_count": 78,
     "metadata": {},
     "output_type": "execute_result"
    }
   ],
   "source": [
    "class_grades = {\n",
    "    \"Alice\": [85, 90, 88],\n",
    "    \"Bob\": [92, 88, 79],\n",
    "    \"Charlie\": [88, 76, 85]\n",
    "}\n",
    "class_grades[\"Alice\"]\n"
   ]
  },
  {
   "cell_type": "code",
   "execution_count": 79,
   "metadata": {},
   "outputs": [
    {
     "data": {
      "text/plain": [
       "'1984'"
      ]
     },
     "execution_count": 79,
     "metadata": {},
     "output_type": "execute_result"
    }
   ],
   "source": [
    "library = {\n",
    "    \"Book1\": {\"title\": \"To Kill a Mockingbird\", \"author\": \"Harper Lee\", \"year\": 1960},\n",
    "    \"Book2\": {\"title\": \"1984\", \"author\": \"George Orwell\", \"year\": 1949}\n",
    "}\n",
    "library[\"Book2\"][\"title\"]"
   ]
  },
  {
   "cell_type": "code",
   "execution_count": 80,
   "metadata": {},
   "outputs": [
    {
     "data": {
      "text/plain": [
       "{'a': 1, 'b': 2, 'c': 3, 'd': 4}"
      ]
     },
     "execution_count": 80,
     "metadata": {},
     "output_type": "execute_result"
    }
   ],
   "source": [
    "dict1={\"a\":1, \"b\":2}\n",
    "dict2={\"c\":3,\"d\":4}\n",
    "dict1.update(dict2)\n",
    "dict1"
   ]
  },
  {
   "cell_type": "code",
   "execution_count": 91,
   "metadata": {},
   "outputs": [
    {
     "data": {
      "text/plain": [
       "{'Electronics': {101: {'name': 'Smartphone', 'price': 699.0, 'stock': 50},\n",
       "  102: {'name': 'Laptop', 'price': 999.0, 'stock': 30}},\n",
       " 'Clothing': {201: {'name': 'Dress', 'price': 30, 'stock': 200},\n",
       "  202: {'name': 'T-shirts', 'price': 60, 'stock': 150}}}"
      ]
     },
     "execution_count": 91,
     "metadata": {},
     "output_type": "execute_result"
    }
   ],
   "source": [
    "# Project on dictionaries: Ecommerce Product Lookup Systesm(No Loops)\n",
    "# #  Scenario: You are managing an ecommerce store with three products in different categories. Each product has attributes like  product id, name, price, and stock.\n",
    "#  The project focuses on dictionary manipulation and string operations to retrive and modify product data.\n",
    "\n",
    "ecommerce_store={\n",
    "    \"Electronics\":{\n",
    "        101:{\"name\": \"Smartphone\", \"price\":699.0,\"stock\":50},\n",
    "        102:{\"name\": \"Laptop\", \"price\":999.0,\"stock\":30}\n",
    "    },\n",
    "    \"Clothing\":{\n",
    "        201:{\"name\": \"Dress\", \"price\":30,\"stock\":200},\n",
    "        202:{\"name\": \"T-shirts\", \"price\":60,\"stock\":150}\n",
    "    }\n",
    "}\n",
    "# taking the input from the user and adding it to the dictonary\n",
    "# product_info=input(\"Enter product information separtated by commas :\").strip().split(\",\")\n",
    "# product_info[0]=int(product_info[0])\n",
    "# new_product=product_info\n",
    "# # adding the product\n",
    "# ecommerce_store[\"Electronics\"][new_product[0]]={\n",
    "#     \"name\":new_product[1],\n",
    "#     \"price\":new_product[2],\n",
    "#     \"stock\":new_product[3]\n",
    "# }\n",
    "# print(f\"Product added{new_product[1]} successfully also stock updated. new dict list is {ecommerce_store}\")\n",
    "\n",
    "# convert a product name to upper-case\n",
    "ecommerce_store[\"Clothing\"][202][\"name\"].upper()\n",
    "ecommerce_store\n"
   ]
  }
 ],
 "metadata": {
  "kernelspec": {
   "display_name": "Python 3",
   "language": "python",
   "name": "python3"
  },
  "language_info": {
   "codemirror_mode": {
    "name": "ipython",
    "version": 3
   },
   "file_extension": ".py",
   "mimetype": "text/x-python",
   "name": "python",
   "nbconvert_exporter": "python",
   "pygments_lexer": "ipython3",
   "version": "3.9.1"
  }
 },
 "nbformat": 4,
 "nbformat_minor": 2
}
